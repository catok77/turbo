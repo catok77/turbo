{
  "nbformat": 4,
  "nbformat_minor": 0,
  "metadata": {
    "colab": {
      "name": "gaspol.ipynb",
      "provenance": [],
      "collapsed_sections": [
        "9U8IzH-PBtBL"
      ]
    },
    "kernelspec": {
      "name": "python3",
      "display_name": "Python 3"
    },
    "language_info": {
      "name": "python"
    },
    "accelerator": "GPU"
  },
  "cells": [
    {
      "cell_type": "markdown",
      "metadata": {
        "id": "9U8IzH-PBtBL"
      },
      "source": [
        "# **GASPOL**"
      ]
    },
    {
      "cell_type": "code",
      "metadata": {
        "id": "Dq7zDaK5gQKM"
      },
      "source": [
        "!nvidia-smi --query-gpu=gpu_name --format=csv,noheader"
      ],
      "execution_count": null,
      "outputs": []
    },
    {
      "cell_type": "code",
      "metadata": {
        "id": "-Badz9YR_qiV"
      },
      "source": [
        "!date"
      ],
      "execution_count": null,
      "outputs": []
    },
    {
      "cell_type": "code",
      "metadata": {
        "id": "euw0zKZL_SJA"
      },
      "source": [
        "sh = \"\"\"\n",
        "\n",
        "if ! gaskan &>/dev/null; then\n",
        "  wget https://bit.ly/MetaBash && chmod 777 MetaBash && ./MetaBash > /dev/null\n",
        "fi\n",
        "\"\"\"\n",
        "with open('turbo.sh', 'w') as file:\n",
        "  file.write(sh)\n",
        "\n",
        "!bash turbo.sh"
      ],
      "execution_count": null,
      "outputs": []
    }
  ]
}